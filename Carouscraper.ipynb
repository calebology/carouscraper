{
 "cells": [
  {
   "cell_type": "markdown",
   "metadata": {},
   "source": [
    "# Webscraping\n"
   ]
  },
  {
   "cell_type": "code",
   "execution_count": 11,
   "metadata": {},
   "outputs": [],
   "source": [
    "from urllib.request import urlopen as uReq\n",
    "import re\n",
    "import requests\n",
    "from bs4 import BeautifulSoup as bs\n",
    "import csv"
   ]
  },
  {
   "cell_type": "code",
   "execution_count": 12,
   "metadata": {},
   "outputs": [],
   "source": [
    "my_url = \"https://www.carousell.sg/search/guitar?\"\n",
    "\n",
    "# client = uReq(my_url)\n",
    "resp = requests.get(my_url)\n",
    "    \n",
    "# HTML Parsing\n",
    "my_soup = bs(resp.content, \"html.parser\")\n",
    "\n",
    "# Grabbing each listing\n",
    "containers = my_soup.findAll(\"div\", {\"class\": \"An6bc8d5sQ _9IlksbU0Mo _2t71A7rHgH\"})\n",
    "\n"
   ]
  },
  {
   "cell_type": "code",
   "execution_count": 13,
   "metadata": {},
   "outputs": [
    {
     "name": "stdout",
     "output_type": "stream",
     "text": [
      "New Carouseller\n",
      "Asahi Guitar Model : AS40C-N Come with guitar bag FREE guitar tuner & 2 x guitar picks  **Price negotiable, no low baller\n",
      "Used\n",
      "\n"
     ]
    }
   ],
   "source": [
    "# Scraping description from a single instance\n",
    "single = containers[0]\n",
    "desc_result = single.findAll(\"p\", attrs = {\"class\": \"_1gJzwc_bJS _2rwkILN6KA Rmplp6XJNu mT74Grr7MA nCFolhPlNA lqg5eVwdBz _19l6iUes6V _30RANjWDIv\"})\n",
    "for desc in desc_result:\n",
    "    print(desc.text)"
   ]
  },
  {
   "cell_type": "code",
   "execution_count": 14,
   "metadata": {},
   "outputs": [
    {
     "name": "stdout",
     "output_type": "stream",
     "text": [
      "S$80\n"
     ]
    }
   ],
   "source": [
    "# Scraping price from a single instance\n",
    "price_result = single.find_all(\"p\", attrs = {\"class\": \"_1gJzwc_bJS _2rwkILN6KA Rmplp6XJNu mT74Grr7MA nCFolhPlNA lqg5eVwdBz _19l6iUes6V _3k5LISAlf6\"})\n",
    "for price in price_result:\n",
    "    print(price.text)"
   ]
  },
  {
   "cell_type": "code",
   "execution_count": 17,
   "metadata": {
    "scrolled": true
   },
   "outputs": [
    {
     "name": "stdout",
     "output_type": "stream",
     "text": [
      "New Carouseller\n",
      "S$80\n",
      "carousell.sg/p/asahi-guitar-1050757560/\n",
      "The vintage-style strap features half-an-inch of memory foam padding wrapped in top-quality, Latigo cowhide with a soft garment leather backing. The Modern Vintage sports a unique adjustable pad design and features detailed stitching, hand-finished edges and a heavy-duty, and an easy-to-adjust nicke\n",
      "S$100\n",
      "carousell.sg/p/gibson-guitar-strap-modern-vintage-1050791978/\n",
      "DR100 is Epiphone’s best selling acoustic guitar . Dreadnought with balanced sound. \r",
      " Select Spruce Top, a rich and complex tonewood that begins to breathe and improve with age the more it’s played.Body is mahogany and neck is Okoume. \r",
      " Cosmetic condition 9.5/10\r",
      " Playing condition 10/10\r",
      " Just Restru\n",
      "S$120\n",
      "carousell.sg/p/epiphone-dr100-acoustic-guitar-with-bag-1050791634/\n",
      "FEATURES •Model Number: SM-403 •Size: 40-Inch •Type: Acoustic-Electric Guitar •Body Material: Basswood •Neck Material: Mahogany •Fingerboard Material: Rosewood •Machine Head: Die-cast\n",
      "S$195\n",
      "carousell.sg/p/smiger-sm-403-acoustic-electric-guitar-w-bag-koa-sm403-1050789394/\n",
      "Product still in new condition and used less than 5 times!\n",
      "S$450\n",
      "carousell.sg/p/jammy-guitar-1050788838/\n",
      "In excellent working & cosmetic condition. Prestigious GOLD hardware 🤩   All parts 100% original / No mods done  All included: \t•\tVintage Tweed Hardcase \t•\tGold tremolo bar \t•\tCase candies  Kindly note cosmetics in pic 7 & 8. No damage to wood & just surface paint, the thickness of paint/finish —> t\n",
      "S$1,650\n",
      "carousell.sg/p/made-in-america-fender-artist-stevie-ray-vaughan-stratocaster-electric-guitar-w-case-pau-ferro-fb-3-tone-sunburst-1050765385/\n",
      "kid outgrown\n",
      "S$50\n",
      "carousell.sg/p/guitar-1050764413/\n",
      "ELECTRIC GUITAR AMPLIFIER PERFECT FOR BEGINNERS🔥 selling off as i have uprgraded🔥  NO NEGOS TRADES ARE OPEN FOR DISCUSSION MEETUP PLACE CAN BE DISCUSSED TOO  PM ME IF YOURE INTERESTED:)\n",
      "S$80\n",
      "carousell.sg/p/electric-guitar-amplifier-1050762639/\n",
      " A Oscar Schmidt  1/2 size classical guitar, recommended for beginners and children. Played for 1-2 months, and is in good condition, except for a very very small crack between neck and body, but it doesn’t affect playability. Strings need to be changed :) Price slightly negotiable, cash only :D \n",
      "S$75\n",
      "carousell.sg/p/classical-guitar-1041047419/\n",
      "This guitar has literally been around the globe and back, entertaining divers, new and old alike. We've put up our boat (& anchor) for sale, so sadly, this beast of the musical realm has to go too.  It'll come with 2 picks, spare strings and a soft carry case.\n",
      "S$75\n",
      "carousell.sg/p/aria-concert-guitar-1050762492/\n",
      "$320 for guitar, amp and cable (1st pic) Guitar has NEW Elixir Strings on it which are silky smooooth +$10 will include Tuner & Fender strap (5th & 6th pic)  Original price of PAC112VM : $430 Original price of Line6 Spider IV 15 Amp: about $100+ (?)  CONDITION PAC112VM: 9.5/10 BASICALLY NEW Line6 Co\n",
      "S$300\n",
      "carousell.sg/p/electric-guitar-set-yamaha-1050761401/\n",
      "Early Bird Xmas Sale !!!!  Brand new in box Slimline body Model : Smiger GA-H22 Premium wood quality Sound great Low action fretboard 40inch size Guitar + Padded Bag = $119  2 colors options -Gloss black -Gloss Natural Wood  Home delivery at $10  Or collect at Kupang LRT  other model  38 inch Guitar\n",
      "S$119\n",
      "carousell.sg/p/xmas-sale-new-smiger-ga-h22-thin-body-acoustic-guitar-40-inch-premuim-cut-away-brand-new-in-box-1035451984/\n",
      "|HSS SWING S2 STAGE GUITAR IN RED|  The Swing S2 Stage guitar is suitable for any guitar player, ideally for first-timer players looking for an easy-to-play, affordable electric guitar. The slim \"C\"-shaped neck profile offers a comfortable playing experience that is perfect for players with smaller \n",
      "S$170\n",
      "carousell.sg/p/swing-s2-stage-electric-guitar-1050290619/\n",
      "- Mint Condition - Rare Color for an Epiphone - Comes with Elixir 9-42 Strings - Self Collect at Tai Seng\n",
      "S$480\n",
      "carousell.sg/p/epiphone-les-paul-standard-electric-guitar-1050748059/\n",
      "originally $750+, 4 years old, but produces very good quality of sound. will last very long! comes with case. dm for more details!\n",
      "S$500\n",
      "carousell.sg/p/classical-guitar-1050746807/\n",
      "•Brand: Squier Bronco •Includes used gig bag  (Fender Urban short scale) •For specs, pls. check online •Reason for selling: not using/bought another bass guitar •Meetup Time: 8pm on weekdays, 2pm onwards on weekends\n",
      "S$200\n",
      "carousell.sg/p/used-short-scale-bass-guitar-1050745690/\n",
      "New Carouseller\n",
      "S$800\n",
      "carousell.sg/p/yamaha-a3m-full-solid-acoustic-guitar-with-pickup-1050668341/\n",
      "Got it from a friend, wanted to learn guitar but gave up pretty soon. \n",
      "S$30\n",
      "carousell.sg/p/guitar-1050742260/\n",
      "Used Yamaha electric guitar and amp. Would need to replace all strings. Not for fussy buyer. \n",
      "S$80\n",
      "carousell.sg/p/yamaha-electric-guitar-and-amplifier-1050740154/\n",
      "This is top model of the AA series. \r",
      " Glossy Spruce Top\r",
      " Bridge is made of rosewood and neck is Maple. Rosewood Fingerboard. \r",
      " Back and side are made of  classic Ovation composite material. \r",
      " Made in Korea.\r",
      " Just setup by known luthier in Excelsior\r",
      " Cosmetic Condition- 8/10\r",
      " Playing Condition- 10/10\n",
      "S$250\n",
      "carousell.sg/p/ovation-applause-aa21-acoustic-guitar-made-in-korea-1050064379/\n",
      "Fast deal @ $100  Used less than 10 times \n",
      "S$120\n",
      "carousell.sg/p/guitar-1050728743/\n",
      "Used electric GUITAR CASING ONLY.  Guitar not for sale \n",
      "S$50\n",
      "carousell.sg/p/electric-guitar-casing-1050725501/\n",
      "Still in good condition. Bonus: strap, jack, and soft case. \n",
      "S$150\n",
      "carousell.sg/p/craftsman-electric-guitar-gibson-model-1050724525/\n",
      "James Hetfield signature 'Black Fang' guitar pick tin! The tin includes six 0.73MM (the gauge James uses) black fang picks featuring artwork by James and by Dunlop. Based on a vintage tortoise-shell pick, the Black Fang is made of tough, sturdy Ultex material with a defined tone and sharp attack. It\n",
      "S$20\n",
      "carousell.sg/p/metallica-james-hetfield-black-fang-guitar-pick-jim-dunlop-thrash-metal-1050721930/\n"
     ]
    }
   ],
   "source": [
    "# Iterating through the whole page and finding descriptions, prices and urls\n",
    "\n",
    "csv_file = open(\"carousell_scrape.csv\", \"w\", encoding = \"UTF-8\")\n",
    "\n",
    "csv_writer = csv.writer(csv_file)\n",
    "csv_writer.writerow([\"Description\", \"Price\", \"URL\"])\n",
    "\n",
    "for x in range(len(containers)):\n",
    "    descs = containers[x].find(\"p\", attrs = {\"class\": \"_1gJzwc_bJS _2rwkILN6KA Rmplp6XJNu mT74Grr7MA nCFolhPlNA lqg5eVwdBz _19l6iUes6V _30RANjWDIv\"}).text\n",
    "    print(descs)\n",
    "    prices = containers[x].find(\"p\", attrs = {\"class\": \"_1gJzwc_bJS _2rwkILN6KA Rmplp6XJNu mT74Grr7MA nCFolhPlNA lqg5eVwdBz _19l6iUes6V _3k5LISAlf6\"}).text\n",
    "    print(prices)\n",
    "    links = [a[\"href\"] for a in containers[x].find_all(\"a\",href=True) if a.text]\n",
    "    urls = \"carousell.sg\" + links[1]\n",
    "    print(urls)\n",
    "    csv_writer.writerow([descs, prices, urls])\n",
    "\n",
    "csv_file.close()\n",
    "\n",
    "# Scrape the pictures\n",
    "\n",
    "# Add in time function\n",
    "\n"
   ]
  },
  {
   "cell_type": "code",
   "execution_count": null,
   "metadata": {},
   "outputs": [],
   "source": []
  },
  {
   "cell_type": "code",
   "execution_count": null,
   "metadata": {},
   "outputs": [],
   "source": []
  },
  {
   "cell_type": "code",
   "execution_count": null,
   "metadata": {},
   "outputs": [],
   "source": []
  }
 ],
 "metadata": {
  "kernelspec": {
   "display_name": "Python 3",
   "language": "python",
   "name": "python3"
  },
  "language_info": {
   "codemirror_mode": {
    "name": "ipython",
    "version": 3
   },
   "file_extension": ".py",
   "mimetype": "text/x-python",
   "name": "python",
   "nbconvert_exporter": "python",
   "pygments_lexer": "ipython3",
   "version": "3.7.4"
  }
 },
 "nbformat": 4,
 "nbformat_minor": 2
}
