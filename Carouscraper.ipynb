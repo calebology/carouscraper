{
 "cells": [
  {
   "cell_type": "markdown",
   "metadata": {},
   "source": [
    "# Webscraping\n"
   ]
  },
  {
   "cell_type": "code",
   "execution_count": 1,
   "metadata": {},
   "outputs": [],
   "source": [
    "from urllib.request import urlopen as uReq\n",
    "import re\n",
    "import requests\n",
    "from bs4 import BeautifulSoup as bs\n",
    "import csv"
   ]
  },
  {
   "cell_type": "code",
   "execution_count": 2,
   "metadata": {},
   "outputs": [],
   "source": [
    "my_url = \"https://www.carousell.sg/search/guitar?\"\n",
    "\n",
    "# client = uReq(my_url)\n",
    "resp = requests.get(my_url)\n",
    "    \n",
    "# HTML Parsing\n",
    "my_soup = bs(resp.content, \"html.parser\")\n",
    "\n",
    "# Grabbing each listing\n",
    "containers = my_soup.findAll(\"div\", {\"class\": \"An6bc8d5sQ _9IlksbU0Mo _2t71A7rHgH\"})\n",
    "\n"
   ]
  },
  {
   "cell_type": "code",
   "execution_count": 4,
   "metadata": {},
   "outputs": [
    {
     "name": "stdout",
     "output_type": "stream",
     "text": [
      " A Oscar Schmidt  1/2 size classical guitar, recommended for beginners and children. Played for 1-2 months, and is in good condition, except for a very very small crack between neck and body, but it doesn’t affect playability. Strings need to be changed :) Price slightly negotiable, cash only :D \n",
      "Used\n",
      "\n"
     ]
    }
   ],
   "source": [
    "# Scraping description from a single instance\n",
    "single = containers[0]\n",
    "desc_result = single.findAll(\"p\", attrs = {\"class\": \"_1gJzwc_bJS _2rwkILN6KA Rmplp6XJNu mT74Grr7MA nCFolhPlNA lqg5eVwdBz _19l6iUes6V _30RANjWDIv\"})\n",
    "for desc in desc_result:\n",
    "    print(desc.text)"
   ]
  },
  {
   "cell_type": "code",
   "execution_count": 7,
   "metadata": {},
   "outputs": [
    {
     "name": "stdout",
     "output_type": "stream",
     "text": [
      "S$75\n"
     ]
    }
   ],
   "source": [
    "# Scraping price from a single instance\n",
    "price_result = single.find_all(\"p\", attrs = {\"class\": \"_1gJzwc_bJS _2rwkILN6KA Rmplp6XJNu mT74Grr7MA nCFolhPlNA lqg5eVwdBz _19l6iUes6V _3k5LISAlf6\"})\n",
    "for price in price_result:\n",
    "    print(price.text)"
   ]
  },
  {
   "cell_type": "code",
   "execution_count": 8,
   "metadata": {
    "scrolled": true
   },
   "outputs": [
    {
     "name": "stdout",
     "output_type": "stream",
     "text": [
      " A Oscar Schmidt  1/2 size classical guitar, recommended for beginners and children. Played for 1-2 months, and is in good condition, except for a very very small crack between neck and body, but it doesn’t affect playability. Strings need to be changed :) Price slightly negotiable, cash only :D \n",
      "S$75\n",
      "carousell.sg/p/classical-guitar-1041047419/\n",
      "Got it from a friend, wanted to learn guitar but gave up pretty soon. \n",
      "S$30\n",
      "carousell.sg/p/guitar-1050742260/\n",
      "Used Yamaha electric guitar and amp. Would need to replace all strings. Not for fussy buyer. \n",
      "S$50\n",
      "carousell.sg/p/yamaha-electric-guitar-and-amplifier-1050740154/\n",
      "This is top model of the AA series. \r",
      " Glossy Spruce Top\r",
      " Bridge is made of rosewood and neck is Maple. Rosewood Fingerboard. \r",
      " Back and side are made of  classic Ovation composite material. \r",
      " Made in Korea.\r",
      " Just setup by known luthier in Excelsior\r",
      " Cosmetic Condition- 8/10\r",
      " Playing Condition- 10/10\n",
      "S$250\n",
      "carousell.sg/p/ovation-applause-aa21-acoustic-guitar-made-in-korea-1050064379/\n",
      "Fast deal @ $100  Used less than 10 times \n",
      "S$120\n",
      "carousell.sg/p/guitar-1050728743/\n",
      "Used electric GUITAR CASING ONLY.  Guitar not for sale \n",
      "S$50\n",
      "carousell.sg/p/electric-guitar-casing-1050725501/\n",
      "Still in good condition. Bonus: strap, jack, and soft case. \n",
      "S$150\n",
      "carousell.sg/p/craftsman-electric-guitar-gibson-model-1050724525/\n",
      "James Hetfield signature 'Black Fang' guitar pick tin! The tin includes six 0.73MM (the gauge James uses) black fang picks featuring artwork by James and by Dunlop. Based on a vintage tortoise-shell pick, the Black Fang is made of tough, sturdy Ultex material with a defined tone and sharp attack. It\n",
      "S$20\n",
      "carousell.sg/p/metallica-james-hetfield-black-fang-guitar-pick-jim-dunlop-thrash-metal-1050721930/\n",
      "New Carouseller\n",
      "S$800\n",
      "carousell.sg/p/yamaha-a3m-full-solid-acoustic-guitar-with-pickup-1050668341/\n",
      "Letting go of my pre-loved Yamaha csf3m 3/4 guitar for cheap. Retail goes for $719.  Bought earlier this year, rarely use it as I prefer full sized guitar. Condition 9.5/10 with piezo pickup.  This guitar is full solid has a bright and loud tone to it :)  Meet at my convenience only.   \n",
      "S$570\n",
      "carousell.sg/p/yamaha-csf3m-full-solid-guitar-1050721142/\n",
      "On June 16, 2010 at the Sonisphere Festival at Bemowo Airport in Warsaw, Poland, the \"big four\" of American thrash metal—Metallica, Slayer, Megadeth, and Anthrax—performed together for the first time.  From my personal collection.Selling as a set. Slightly negotiable. Self collect from my place.\n",
      "S$80\n",
      "carousell.sg/p/the-big-4-godfather-of-thrash-metal-metallica-slayer-megadeth-anthrax-rare-guitar-pick-1050720090/\n",
      "Selling a good condition(9/10) acoustic guitar with hardcase(7/10 condition)  Price is open for reasonable negotiation😝  PM for more info\n",
      "S$650S$730\n",
      "carousell.sg/p/ovation-acoustic-guitar-elite-t-2078-1043793667/\n",
      "good conditions washburn 30w acoustic amp . bought 5 yrs back. location sengkang beside pri school s540229.  thank you.\n",
      "S$130\n",
      "carousell.sg/p/acoustic-guitar-amp-30w-1050714258/\n",
      "✨EXCELLENT✨\r",
      " \r",
      " ✅Working Condition: 10/10\r",
      " ✅Physical Condition: (9/10)\r",
      " \r",
      " 🎸  I also offer repair services, help with selling your guitar and can help you find guitars so please hit me up if you need anything! \r",
      "        Please feel free to ask me any questions you may have and if you would like more pi\n",
      "S$430\n",
      "carousell.sg/p/🔸hamer-xt-emg-pickups-electric-guitar-not-gibson-fender-1046017031/\n",
      "Letting go of this beginner guitar! - Purchased from Swee Lee in June 2020, original price at $299 - Condition: 9/10, just changed the set of strings to new Elixir strings. Very smooth - Bag is not included, you'll need to bring a bag with you (I'm upgrading to a better guitar and that doesn't come \n",
      "S$170\n",
      "carousell.sg/p/fender-squier-affinity-stratocaster-electric-guitar-1050707832/\n",
      "Highly recommended quality guitar. We said so because we play it. 👍Good Quality full size guitars 👍Spruce Top, Mahogany Back & Sides 👍Suitable for Teenagers & Adults 👍Comes with Pick and Bag 👍Purchase accessories at special prices: Capo at $10, Tuner at $10, Guitar Stand at $15  Limited Units.  Vide\n",
      "S$150\n",
      "carousell.sg/p/41-adult-size-guitar-for-beginners-to-intermediate-players-1039798478/\n",
      "Hello , I just buy this guitar last month , and I decided for sale because I need money for go back my place , this item no crack , no dent  , come with beg\n",
      "S$125\n",
      "carousell.sg/p/guitar-1043921664/\n",
      "Letting go of this beautiful Fender acoustic guitar, as I want to focus on electric guitar.  - Purchased at Swee Lee in May 2020, original price is $299 - The hard case (Fender's original case) will be included - The guitar stand is included (bought at $18l - Condition: 9.5/10, but you may want to r\n",
      "S$180\n",
      "carousell.sg/p/fender-cd-60-dread-acoustic-guitar-1050704492/\n",
      "LAVA ME 2 Future. Evolution. We believe that the future of guitar could be better than the past. They should be lighter, easier. You don’t have to worry about the weather conditions. And of course it should has an excellent sound. This belief finally came true with the introduction of the LAVA ME 2.\n",
      "S$850\n",
      "carousell.sg/p/lava-me-2-freeboost-acoustic-guitar-w-ideal-bag-2-black-1050700455/\n",
      "LAVA ME 2 Future. Evolution. We believe that the future of guitar could be better than the past. They should be lighter, easier. You don’t have to worry about the weather conditions. And of course it should has an excellent sound. This belief finally came true with the introduction of the LAVA ME 2.\n",
      "S$850\n",
      "carousell.sg/p/lava-me-2-freeboost-acoustic-guitar-w-ideal-bag-2-red-1050696419/\n",
      "Selling used Yamaha TRBX505 Bass Guitar and soft bag included.  Colour: Grey satin finish  Overall in good condition - no dents, no scratches. Chat for more pictures. \n",
      "S$650\n",
      "carousell.sg/p/yamaha-trbx505-bass-guitar-soft-bag-included-1050694998/\n",
      "For sale is an Aria Sinsonido Classical Nylon Silent Travel Guitar. The SoloEtte design is licensed to Aria from Rossco Wright, a boutique luthier who creates headless guitars.   This is a travel guitar where the black foam bars can be dismantled for a smaller footprint.   It has a 1/4” input jack t\n",
      "S$400\n",
      "carousell.sg/p/aria-sinsonido-soloette-silent-classical-nylon-travel-guitar-1050674900/\n",
      "All three instruments at one price $150\n",
      "S$150\n",
      "carousell.sg/p/guitars-n-ukulele-1050673445/\n",
      "LAVA ME 2 Future. Evolution. We believe that the future of guitar could be better than the past. They should be lighter, easier. You don’t have to worry about the weather conditions. And of course it should has an excellent sound. This belief finally came true with the introduction of the LAVA ME 2.\n",
      "S$850\n",
      "carousell.sg/p/lava-me-2-freeboost-acoustic-guitar-w-ideal-bag-2-white-1050694370/\n"
     ]
    }
   ],
   "source": [
    "# Iterating through the whole page and finding descriptions, prices and urls\n",
    "\n",
    "csv_file = open(\"carousell_scrape.csv\", \"w\", encoding = \"UTF-8\")\n",
    "\n",
    "csv_writer = csv.writer(csv_file)\n",
    "csv_writer.writerow([\"Description\", \"Price\", \"URL\"])\n",
    "\n",
    "for x in range(len(containers)):\n",
    "    descs = containers[x].find(\"p\", attrs = {\"class\": \"_1gJzwc_bJS _2rwkILN6KA Rmplp6XJNu mT74Grr7MA nCFolhPlNA lqg5eVwdBz _19l6iUes6V _30RANjWDIv\"}).text\n",
    "    print(descs)\n",
    "    prices = containers[x].find(\"p\", attrs = {\"class\": \"_1gJzwc_bJS _2rwkILN6KA Rmplp6XJNu mT74Grr7MA nCFolhPlNA lqg5eVwdBz _19l6iUes6V _3k5LISAlf6\"}).text\n",
    "    print(prices)\n",
    "    links = [a[\"href\"] for a in containers[x].find_all(\"a\",href=True) if a.text]\n",
    "    urls = \"carousell.sg\" + links[1]\n",
    "    print(urls)\n",
    "    csv_writer.writerow([descs, prices, urls])\n",
    "\n",
    "csv_file.close()"
   ]
  },
  {
   "cell_type": "code",
   "execution_count": null,
   "metadata": {},
   "outputs": [],
   "source": []
  },
  {
   "cell_type": "code",
   "execution_count": null,
   "metadata": {},
   "outputs": [],
   "source": []
  },
  {
   "cell_type": "code",
   "execution_count": null,
   "metadata": {},
   "outputs": [],
   "source": []
  }
 ],
 "metadata": {
  "kernelspec": {
   "display_name": "Python 3",
   "language": "python",
   "name": "python3"
  },
  "language_info": {
   "codemirror_mode": {
    "name": "ipython",
    "version": 3
   },
   "file_extension": ".py",
   "mimetype": "text/x-python",
   "name": "python",
   "nbconvert_exporter": "python",
   "pygments_lexer": "ipython3",
   "version": "3.7.4"
  }
 },
 "nbformat": 4,
 "nbformat_minor": 2
}
